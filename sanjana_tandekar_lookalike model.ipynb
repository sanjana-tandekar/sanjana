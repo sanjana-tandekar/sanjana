{
 "cells": [
  {
   "cell_type": "code",
   "execution_count": 1,
   "id": "9d7e7d0f-7beb-4ab0-a8c5-237c3ac047fa",
   "metadata": {},
   "outputs": [],
   "source": [
    "import pandas as pd\n",
    "from sklearn.preprocessing import StandardScaler\n",
    "from sklearn.metrics.pairwise import cosine_similarity\n"
   ]
  },
  {
   "cell_type": "code",
   "execution_count": 3,
   "id": "6680e24a-b875-419a-af96-47be728aaee1",
   "metadata": {},
   "outputs": [],
   "source": [
    "customers = pd.read_csv(\"Customers-checkpoint.csv\")\n",
    "products = pd.read_csv(\"Products.csv\")\n",
    "transactions = pd.read_csv(\"Transactions.csv\")\n"
   ]
  },
  {
   "cell_type": "code",
   "execution_count": 4,
   "id": "2a8bc125-34a4-4370-83fc-f2aee2795f21",
   "metadata": {},
   "outputs": [],
   "source": [
    "merged_data = transactions.merge(customers, on='CustomerID').merge(products, on='ProductID')\n"
   ]
  },
  {
   "cell_type": "code",
   "execution_count": 5,
   "id": "d67c7ff1-85f5-4454-8554-6fc70e5ffd2d",
   "metadata": {},
   "outputs": [],
   "source": [
    "customer_features = merged_data.groupby(\"CustomerID\").agg({\n",
    "    \"TotalValue\": \"sum\",      # Total spend\n",
    "    \"TransactionID\": \"count\", # Number of transactions\n",
    "    \"ProductID\": \"nunique\"    # Unique products purchased\n",
    "}).rename(columns={\"TransactionID\": \"NumTransactions\", \"ProductID\": \"UniqueProducts\"})\n"
   ]
  },
  {
   "cell_type": "code",
   "execution_count": 6,
   "id": "76e9c0f1-3f62-4a0c-923c-2f45eca74b80",
   "metadata": {},
   "outputs": [],
   "source": [
    "scaler = StandardScaler()\n",
    "scaled_features = scaler.fit_transform(customer_features)\n"
   ]
  },
  {
   "cell_type": "code",
   "execution_count": 7,
   "id": "abac8364-3aa1-41c8-be79-31872a03af81",
   "metadata": {},
   "outputs": [],
   "source": [
    "# Compute Cosine Similarity\n",
    "similarity_matrix = cosine_similarity(scaled_features)\n",
    "similarity_df = pd.DataFrame(similarity_matrix, index=customer_features.index, columns=customer_features.index)"
   ]
  },
  {
   "cell_type": "code",
   "execution_count": 8,
   "id": "0f051e83-0e83-4169-afb3-ad7ecd3d7c05",
   "metadata": {},
   "outputs": [],
   "source": [
    "#Extract top 3 similar customers for each customer in C0001-C0020\n",
    "target_customers = [cust for cust in customers[\"CustomerID\"].head(20) if cust in similarity_df.index]\n",
    "lookalike_results = []"
   ]
  },
  {
   "cell_type": "code",
   "execution_count": 9,
   "id": "f8a4e8ad-fdc2-4638-9329-cc82660a725d",
   "metadata": {},
   "outputs": [],
   "source": [
    "for cust_id in target_customers:\n",
    "    similar_customers = similarity_df.loc[cust_id].drop(cust_id).nlargest(3)  # Exclude self-similarity\n",
    "    for sim_cust, score in similar_customers.items():\n",
    "        lookalike_results.append([cust_id, sim_cust, round(score, 4)])\n",
    "\n"
   ]
  },
  {
   "cell_type": "code",
   "execution_count": 10,
   "id": "aca58627-e6c2-4f49-a2ac-3aac32dd47c3",
   "metadata": {},
   "outputs": [
    {
     "name": "stdout",
     "output_type": "stream",
     "text": [
      "✅ Lookalike Model completed. Results saved in sanjana_tandekar_Lookalike.csv\n"
     ]
    }
   ],
   "source": [
    "# Convert to DataFrame and save as CSV\n",
    "lookalike_df = pd.DataFrame(lookalike_results, columns=[\"CustomerID\", \"Lookalike\", \"Similarity_Score\"])\n",
    "lookalike_df.to_csv(\"Sanjana_tandekar_Lookalike.csv\", index=False)\n",
    "\n",
    "print(\"✅ Lookalike Model completed. Results saved in sanjana_tandekar_Lookalike.csv\")"
   ]
  },
  {
   "cell_type": "code",
   "execution_count": null,
   "id": "26552a38-8eb8-4873-9431-5e8a32542ef9",
   "metadata": {},
   "outputs": [],
   "source": []
  },
  {
   "cell_type": "code",
   "execution_count": null,
   "id": "1617002d-8153-4e70-b9b7-a00f40d25fc4",
   "metadata": {},
   "outputs": [],
   "source": []
  },
  {
   "cell_type": "code",
   "execution_count": null,
   "id": "d6c70b17-7017-4a6f-badd-6d5b3225fc74",
   "metadata": {},
   "outputs": [],
   "source": []
  }
 ],
 "metadata": {
  "kernelspec": {
   "display_name": "Python 3 (ipykernel)",
   "language": "python",
   "name": "python3"
  },
  "language_info": {
   "codemirror_mode": {
    "name": "ipython",
    "version": 3
   },
   "file_extension": ".py",
   "mimetype": "text/x-python",
   "name": "python",
   "nbconvert_exporter": "python",
   "pygments_lexer": "ipython3",
   "version": "3.13.1"
  }
 },
 "nbformat": 4,
 "nbformat_minor": 5
}
